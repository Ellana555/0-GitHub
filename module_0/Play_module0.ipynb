{
 "cells": [
  {
   "cell_type": "code",
   "execution_count": 2,
   "id": "e36274c8",
   "metadata": {},
   "outputs": [
    {
     "name": "stdout",
     "output_type": "stream",
     "text": [
      "Игра крестики-нолики\n",
      "Формат ввода: x y\n",
      "x - строки, y - столбцы\n"
     ]
    }
   ],
   "source": [
    "print(\"Игра крестики-нолики\")\n",
    "print(\"Формат ввода: x y\")\n",
    "print(\"x - строки, y - столбцы\")"
   ]
  },
  {
   "cell_type": "code",
   "execution_count": 3,
   "id": "b9c65167",
   "metadata": {},
   "outputs": [],
   "source": [
    "field = [[\" \"] * 3 for i in range(3)]"
   ]
  },
  {
   "cell_type": "code",
   "execution_count": 4,
   "id": "d8110d97",
   "metadata": {},
   "outputs": [
    {
     "name": "stdout",
     "output_type": "stream",
     "text": [
      "  0 1 2\n",
      "0      \n",
      "1      \n",
      "2      \n"
     ]
    }
   ],
   "source": [
    "def show():\n",
    "    '''Фрагмент кода для визуализации игрового поля'''\n",
    "    print(f\"  0 1 2\")\n",
    "    for i in range(3):\n",
    "        print(f\"{i} {field[i][0]} {field[i][1]} {field[i][2]}\")\n",
    "show()"
   ]
  },
  {
   "cell_type": "code",
   "execution_count": 5,
   "id": "edae6e56",
   "metadata": {},
   "outputs": [],
   "source": [
    "def ask():\n",
    "    '''Спрашиваем у пользователя куда ставить'''\n",
    "    while True:\n",
    "        value = input(\"     Ваш ход: \").split()\n",
    "        if len(value) != 2:\n",
    "            print(\"Введите две координаты\")\n",
    "            continue\n",
    "\n",
    "        x,y = value\n",
    "\n",
    "        if not(x.isdigit()) or not(y.isdigit()):\n",
    "            print(\"Введены не числа\")\n",
    "            continue\n",
    "\n",
    "        x,y = int(x), int(y)\n",
    "\n",
    "        if 0 <= x <= 2 and 0 <= y <= 2:\n",
    "            if field[x][y] == \" \":\n",
    "                # возвращаем кортеж\n",
    "                return x,y\n",
    "            else:\n",
    "                print(\"Клетка занята!\")\n",
    "        else:\n",
    "            print(\" Координаты вне диапазона!\")"
   ]
  },
  {
   "cell_type": "code",
   "execution_count": 6,
   "id": "1ebc7e98",
   "metadata": {},
   "outputs": [],
   "source": [
    "def winning_combination():\n",
    "    '''Выигрышные комбинации'''\n",
    "    for i in range(3):\n",
    "        symbols = []\n",
    "        for j in range(3):\n",
    "            symbols.append(field[i][j])\n",
    "            if symbols == [\"X\", \"X\", \"X\"]:\n",
    "                print(\"Выиграл X!!!\")\n",
    "                return True\n",
    "            elif symbols == [\"0\", \"0\", \"0\"]:\n",
    "                print(\"Выиграл 0!!!\")\n",
    "                return True\n",
    "    # проверка столбцов\n",
    "    for i in range(3):\n",
    "        symbols = []\n",
    "        for j in range(3):\n",
    "            symbols.append(field[j][i])\n",
    "            if symbols == [\"X\", \"X\", \"X\"]:\n",
    "                print(\"Выиграл X!!!\")\n",
    "                return True\n",
    "            elif symbols == [\"0\", \"0\", \"0\"]:\n",
    "                print(\"Выиграл 0!!!\")\n",
    "                return True\n",
    "\n",
    "    # проверка диагонали\n",
    "    symbols = []\n",
    "    for i in range(3):\n",
    "        symbols.append(field[i][i])\n",
    "        if symbols == [\"X\", \"X\", \"X\"]:\n",
    "            print(\"Выиграл X!!!\")\n",
    "            return True\n",
    "        elif symbols == [\"0\", \"0\", \"0\"]:\n",
    "            print(\"Выиграл 0!!!\")\n",
    "            return True\n",
    "\n",
    "    # проверка другой диагонали\n",
    "    symbols = []\n",
    "    for i in range(3):\n",
    "        symbols.append(field[i][2-i])\n",
    "        if symbols == [\"X\", \"X\", \"X\"]:\n",
    "            print(\"Выиграл X!!!\")\n",
    "            return True\n",
    "        elif symbols == [\"0\", \"0\", \"0\"]:\n",
    "            print(\"Выиграл 0!!!\")\n",
    "            return True\n",
    "    return False"
   ]
  },
  {
   "cell_type": "code",
   "execution_count": 7,
   "id": "4a6053c8",
   "metadata": {},
   "outputs": [],
   "source": [
    "def player():\n",
    "    '''Определение хода игрока, запуск игрового поля, проверка ввода и выигрыша'''\n",
    "    num =0\n",
    "    while True:\n",
    "        num += 1\n",
    "\n",
    "        show()\n",
    "\n",
    "        if num % 2 == 0:\n",
    "            print(\" Ходит нолик \")\n",
    "        else:\n",
    "            print(\" Ходит крестик \")\n",
    "\n",
    "        # забираем координаты и проверяем условия фукцией\n",
    "        x,y = ask()\n",
    "\n",
    "        if num % 2 == 1:\n",
    "            field[x][y] = \"X\"\n",
    "        else:\n",
    "            field[x][y] = \"0\"\n",
    "\n",
    "        if winning_combination():\n",
    "            break\n",
    "        if num == 9:\n",
    "            print(\"Ничья!\")\n",
    "            break"
   ]
  },
  {
   "cell_type": "code",
   "execution_count": 8,
   "id": "c8c590c3",
   "metadata": {},
   "outputs": [
    {
     "name": "stdout",
     "output_type": "stream",
     "text": [
      "  0 1 2\n",
      "0      \n",
      "1      \n",
      "2      \n",
      " Ходит крестик \n",
      "     Ваш ход: 0\n",
      "Введите две координаты\n",
      "     Ваш ход: 5 h\n",
      "Введены не числа\n",
      "     Ваш ход: 0 56\n",
      " Координаты вне диапазона!\n",
      "     Ваш ход: 0 0\n",
      "  0 1 2\n",
      "0 X    \n",
      "1      \n",
      "2      \n",
      " Ходит нолик \n",
      "     Ваш ход: 0 0\n",
      "Клетка занята!\n",
      "     Ваш ход: 0 2\n",
      "  0 1 2\n",
      "0 X   0\n",
      "1      \n",
      "2      \n",
      " Ходит крестик \n",
      "     Ваш ход: 1 1\n",
      "  0 1 2\n",
      "0 X   0\n",
      "1   X  \n",
      "2      \n",
      " Ходит нолик \n",
      "     Ваш ход: 2 2\n",
      "  0 1 2\n",
      "0 X   0\n",
      "1   X  \n",
      "2     0\n",
      " Ходит крестик \n",
      "     Ваш ход: 1 2\n",
      "  0 1 2\n",
      "0 X   0\n",
      "1   X X\n",
      "2     0\n",
      " Ходит нолик \n",
      "     Ваш ход: 1 0\n",
      "  0 1 2\n",
      "0 X   0\n",
      "1 0 X X\n",
      "2     0\n",
      " Ходит крестик \n",
      "     Ваш ход: 0 1\n",
      "  0 1 2\n",
      "0 X X 0\n",
      "1 0 X X\n",
      "2     0\n",
      " Ходит нолик \n",
      "     Ваш ход: 2 0\n",
      "  0 1 2\n",
      "0 X X 0\n",
      "1 0 X X\n",
      "2 0   0\n",
      " Ходит крестик \n",
      "     Ваш ход: 2 1\n",
      "Выиграл X!!!\n"
     ]
    }
   ],
   "source": [
    "player()"
   ]
  },
  {
   "cell_type": "code",
   "execution_count": null,
   "id": "9c4453f8",
   "metadata": {},
   "outputs": [],
   "source": []
  }
 ],
 "metadata": {
  "kernelspec": {
   "display_name": "Python 3",
   "language": "python",
   "name": "python3"
  },
  "language_info": {
   "codemirror_mode": {
    "name": "ipython",
    "version": 3
   },
   "file_extension": ".py",
   "mimetype": "text/x-python",
   "name": "python",
   "nbconvert_exporter": "python",
   "pygments_lexer": "ipython3",
   "version": "3.8.8"
  }
 },
 "nbformat": 4,
 "nbformat_minor": 5
}
